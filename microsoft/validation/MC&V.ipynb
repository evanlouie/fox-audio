{
 "cells": [
  {
   "cell_type": "markdown",
   "metadata": {},
   "source": [
    "# Model Inference Comparison & Validation Script"
   ]
  },
  {
   "cell_type": "code",
   "execution_count": null,
   "metadata": {},
   "outputs": [],
   "source": [
    "import csv, json, glob, os, pandas as pd, objdict, ast\n",
    "\n",
    "compareDF = pd.DataFrame(columns=['VideoId'])\n",
    "modelCount = -1"
   ]
  },
  {
   "cell_type": "markdown",
   "metadata": {},
   "source": [
    "This Model Comparison Script takes in a json file directory where each json file has been normalized in the format below:\n",
    "\n",
    "``` json\n",
    "{\n",
    "  \"VideoId\": \"some-identifier.wav\",\n",
    "  \"LabelData\": [\n",
    "    {\n",
    "      \"label_0\" \"427\",\n",
    "      \"labelConf_0\": \"0.4131\"\n",
    "    },\n",
    "    {\n",
    "      \"label_1\": \"213\",\n",
    "      \"labelConf_1\": \".3121\"\n",
    "    },\n",
    "    {\n",
    "      \"label_2\": \"0\",\n",
    "      \"labelConf_2\": \".2421\"\n",
    "    }\n",
    "  ]\n",
    "}\n",
    "```"
   ]
  },
  {
   "cell_type": "code",
   "execution_count": null,
   "metadata": {},
   "outputs": [],
   "source": [
    "#Pass a directory of formatted Inference Json files\n",
    "for jsonfile in glob.glob('NormalizedInferenceScores/*json'):\n",
    "    jsonDF = pd.read_json(jsonfile)\n",
    "    modelCount += 1\n",
    "    print(str(jsonfile) +\" has been indexed at: Model_\"+ str(modelCount) )\n",
    "    #Iterate through the rows and reformat based on key/value pairs\n",
    "    for index, row in jsonDF.iterrows():\n",
    "        \n",
    "        #Check if VideoId currently exists in the master compare dataframe otherwise add it\n",
    "        if(compareDF['VideoId'].str.contains(str(row['VideoId'])).any()):\n",
    "            if(index == 0):\n",
    "                print(\"Audio Inference file contained preexisting VideoIds, Updating compare dataframe with values from Model_\" +str(modelCount))\n",
    "            jsonRow = row['Label_Data']\n",
    "            convertedRow = pd.DataFrame(columns=['VideoId'])\n",
    "            indexWrite = compareDF[compareDF['VideoId']==row['VideoId']].index.values.astype(int)[0]\n",
    "            #For all labels and confidence pairs, add as new column in the data frame\n",
    "            for field in jsonRow:\n",
    "                iterativeLabel = \"Model\"+str(modelCount)+\"_\"+field\n",
    "                if (index == 0):\n",
    "                    compareDF = compareDF.reindex(columns=[*compareDF.columns.tolist(), iterativeLabel], fill_value=0.0)\n",
    "                compareDF.loc[indexWrite, iterativeLabel] = jsonRow[field]\n",
    "\n",
    "        #Add VideoId to master compare dataframe with values   \n",
    "        else:\n",
    "            if (index == 0):\n",
    "                print(\"New Audio Inference file detected with new videos, Adding new VideoIDs from Model_\" +str(modelCount))\n",
    "            jsonRow = row['Label_Data']\n",
    "            convertedRow = pd.DataFrame(columns=['VideoId'])\n",
    "            #For all labels and confidence pairs, add as new column in the data frame\n",
    "            for field in jsonRow:\n",
    "                #Create Columns for new model\n",
    "                iterativeLabel = \"Model\"+str(modelCount)+\"_\"+field\n",
    "                if (index == 0):\n",
    "                    compareDF = compareDF.reindex(columns=[*compareDF.columns.tolist(), iterativeLabel], fill_value=0.0)  \n",
    "                convertedRow.loc[0, iterativeLabel] = jsonRow[field]\n",
    "            # Add Temp row to Compare Dataframe    \n",
    "            convertedRow.loc[0,'VideoId'] = row['VideoId']\n",
    "            compareDF = compareDF.append(convertedRow, ignore_index=True)\n",
    "    "
   ]
  },
  {
   "cell_type": "code",
   "execution_count": null,
   "metadata": {},
   "outputs": [],
   "source": [
    "compareDF"
   ]
  },
  {
   "cell_type": "markdown",
   "metadata": {},
   "source": [
    "## Outstanding things to do:\n",
    "- Reindex Columns so they are in a sequential format. I.E. (Model0_Label0 | Model0_Label_0_Conf)\n",
    "- Fix sorting warning:\n",
    "```\n",
    "FutureWarning: Sorting because non-concatenation axis is not aligned. A future version of pandas will change to not sort by default.\n",
    "To accept the future behavior, pass 'sort=False'.\n",
    "To retain the current behavior and silence the warning, pass 'sort=True'.\n",
    "sort=sort)\n",
    "```\n",
    "- Move model index to directory base\n",
    "- Persisted Dataframes\n",
    "- Validation Cells for Gunshot (Inputs for Validation)\n",
    "- Migrate to a script"
   ]
  }
 ],
 "metadata": {
  "language_info": {
   "name": "python",
   "pygments_lexer": "ipython3"
  }
 },
 "nbformat": 4,
 "nbformat_minor": 2
}
