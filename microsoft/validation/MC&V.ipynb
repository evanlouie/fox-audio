{
 "cells": [
  {
   "cell_type": "markdown",
   "metadata": {},
   "source": [
    "# Model Inference Comparison & Validation Script"
   ]
  },
  {
   "cell_type": "markdown",
   "metadata": {},
   "source": [
    "## Sample argument input\n",
    "\n",
    "**`python mc&v.py --inference_score_dir --canonical_json --model_index_json --compare_video --compare_label` ** "
   ]
  },
  {
   "cell_type": "code",
   "execution_count": null,
   "metadata": {},
   "outputs": [],
   "source": [
    "import csv, json, glob, os, pandas as pd, objdict, ast\n",
    "from pandas.io.json import json_normalize\n",
    "\n",
    "compare_video = 'Deadpool1'\n",
    "compare_label = 'gunshot'\n",
    "compareDF = pd.DataFrame(columns=['VideoId'])\n",
    "modelCount = -1"
   ]
  },
  {
   "cell_type": "markdown",
   "metadata": {},
   "source": [
    "This Model Comparison Script takes in a json file directory where each json file has been normalized in the format below:\n",
    "\n",
    "## Inference Score Confidence Json\n",
    "``` json\n",
    "{\n",
    "  \"VideoId\": \"some-identifier.wav\",\n",
    "  \"Label_Data\": [\n",
    "    {\n",
    "      \"label_0\" \"427\",\n",
    "      \"labelConf_0\": \"0.4131\"\n",
    "    },\n",
    "    {\n",
    "      \"label_1\": \"213\",\n",
    "      \"labelConf_1\": \"0.3121\"\n",
    "    },\n",
    "    {\n",
    "      \"label_2\": \"0\",\n",
    "      \"labelConf_2\": \"0.2421\"\n",
    "    }\n",
    "  ]\n",
    "}\n",
    "```"
   ]
  },
  {
   "cell_type": "code",
   "execution_count": null,
   "metadata": {},
   "outputs": [],
   "source": [
    "#Pass a directory of formatted Inference Json files\n",
    "for jsonfile in glob.glob('NormalizedInferenceScores/*json'):\n",
    "    jsonDF = pd.read_json(jsonfile)\n",
    "    modelCount += 1\n",
    "    print(str(jsonfile) +\" has been indexed at: Model_\"+ str(modelCount) )\n",
    "    #Iterate through the rows and reformat based on key/value pairs\n",
    "    for index, row in jsonDF.iterrows():\n",
    "        \n",
    "        #Check if VideoId currently exists in the master compare dataframe otherwise add it\n",
    "        if(compareDF['VideoId'].str.contains(str(row['VideoId'])).any()):\n",
    "            if(index == 0):\n",
    "                print(\"Audio Inference file contained preexisting VideoIds, Updating compare dataframe with values from Model_\" +str(modelCount))\n",
    "            jsonRow = row['Label_Data']\n",
    "            convertedRow = pd.DataFrame(columns=['VideoId'])\n",
    "            indexWrite = compareDF[compareDF['VideoId']==row['VideoId']].index.values.astype(int)[0]\n",
    "            #For all labels and confidence pairs, add as new column in the data frame\n",
    "            for field in jsonRow:\n",
    "                iterativeLabel = \"Model\"+str(modelCount)+\"_\"+field\n",
    "                if (index == 0):\n",
    "                    compareDF = compareDF.reindex(columns=[*compareDF.columns.tolist(), iterativeLabel], fill_value=0.0)\n",
    "                compareDF.loc[indexWrite, iterativeLabel] = jsonRow[field]\n",
    "\n",
    "        #Add VideoId to master compare dataframe with values   \n",
    "        else:\n",
    "            if (index == 0):\n",
    "                print(\"New Audio Inference file detected with new videos, Adding new VideoIDs from Model_\" +str(modelCount))\n",
    "            jsonRow = row['Label_Data']\n",
    "            convertedRow = pd.DataFrame(columns=['VideoId'])\n",
    "            #For all labels and confidence pairs, add as new column in the data frame\n",
    "            for field in jsonRow:\n",
    "                #Create Columns for new model\n",
    "                iterativeLabel = \"Model\"+str(modelCount)+\"_\"+field\n",
    "                if (index == 0):\n",
    "                    compareDF = compareDF.reindex(columns=[*compareDF.columns.tolist(), iterativeLabel], fill_value=0.0)  \n",
    "                convertedRow.loc[0, iterativeLabel] = jsonRow[field]\n",
    "            # Add Temp row to Compare Dataframe    \n",
    "            convertedRow.loc[0,'VideoId'] = row['VideoId']\n",
    "            compareDF = compareDF.append(convertedRow, ignore_index=True, sort=True)\n",
    "            \n",
    "compareDF['VideoId'] = compareDF['VideoId'].str.replace(r'.wav$', '')\n",
    "compareDF = compareDF.set_index(['VideoId'])\n",
    "    "
   ]
  },
  {
   "cell_type": "code",
   "execution_count": null,
   "metadata": {},
   "outputs": [],
   "source": [
    "compareDF"
   ]
  },
  {
   "cell_type": "code",
   "execution_count": null,
   "metadata": {},
   "outputs": [],
   "source": [
    "compareDF.loc[compareDF.index.isin(['deadpool1_01-00-20.000'])]"
   ]
  },
  {
   "cell_type": "code",
   "execution_count": null,
   "metadata": {},
   "outputs": [],
   "source": [
    "compareDF.to_csv('compareDF.csv')"
   ]
  },
  {
   "cell_type": "markdown",
   "metadata": {},
   "source": [
    "## Canonical Video Validation Json\n",
    "\n",
    "Next we use a canonical validation json file that stores an array of string labels associated with respective audio frames. In this example a frame is a 10 second interval and the videoId is reflective of the frame.\n",
    "\n",
    "``` json\n",
    "[\n",
    "  {\n",
    "    \"movie\": \"Deadpool1\",\n",
    "    \"data\": [\n",
    "      {\n",
    "        \"Label_Array\": [\"gunshot\", \"speech\"],\n",
    "        \"VideoId\": \"deadpool1_00-07-50.000\"\n",
    "      },\n",
    "      {\n",
    "        \"Label_Array\": [\"gunshot\"],\n",
    "        \"VideoId\": \"deadpool1_00-13-00.000\"\n",
    "      },\n",
    "      {\n",
    "        \"Label_Array\": [\"gunshot\"],\n",
    "        \"VideoId\": \"deadpool1_00-11-00.000\"\n",
    "      }\n",
    "    ]\n",
    "  },\n",
    "  {\n",
    "    \"movie\": \"Deadpool2\",\n",
    "    \"data\": [\n",
    "      {\n",
    "        \"Label_Array\": [\"gunshot\"],\n",
    "        \"VideoId\": \"deadpool2_00-02-00.000\"\n",
    "      },\n",
    "      {\n",
    "        \"Label_Array\": [\"gunshot\"],\n",
    "        \"VideoId\": \"deadpool2_00-03-20.000\"\n",
    "      },\n",
    "      {\n",
    "        \"Label_Array\": [\"gunshot\"],\n",
    "        \"VideoId\": \"deadpool2_00-04-20.000\"\n",
    "      },\n",
    "      {\n",
    "        \"Label_Array\": [\"gunshot\"],\n",
    "        \"VideoId\": \"deadpool2_00-33-10.000\"\n",
    "      }\n",
    "    ]\n",
    "  }\n",
    "]\n",
    "\n",
    "```"
   ]
  },
  {
   "cell_type": "code",
   "execution_count": null,
   "metadata": {},
   "outputs": [],
   "source": [
    "#Sample Canonical Validation File\n",
    "jsonDf = pd.read_json(\"canonicalTest1.json\")"
   ]
  },
  {
   "cell_type": "code",
   "execution_count": null,
   "metadata": {},
   "outputs": [],
   "source": [
    "jsonDf"
   ]
  },
  {
   "cell_type": "code",
   "execution_count": null,
   "metadata": {},
   "outputs": [],
   "source": [
    "movieDf = jsonDf[jsonDf['movie'].str.contains(compare_video)]"
   ]
  },
  {
   "cell_type": "code",
   "execution_count": null,
   "metadata": {},
   "outputs": [],
   "source": [
    "movieDf"
   ]
  },
  {
   "cell_type": "code",
   "execution_count": null,
   "metadata": {},
   "outputs": [],
   "source": [
    "for index, row in movieDf.iterrows():\n",
    "    #normalizeDF = jsonDf['data'][index]\n",
    "    normalizeDF = movieDf['data'][index]\n",
    "json_normalize(normalizeDF)\n",
    "canonicalDf = (pd.concat({i: json_normalize(normalizeDF) for i, normalizeDF in movieDf.pop('data').items()})\n",
    "         .reset_index(level=1, drop=True)\n",
    "         .join(movieDf)\n",
    "         .reset_index(drop=True))\n",
    "canonicalDf"
   ]
  },
  {
   "cell_type": "markdown",
   "metadata": {},
   "source": [
    "## Model Index Json\n",
    "\n",
    "Finally we use a model index json that stores each respectives models index labels based on a knowledge graph for scoring the accuracy of the model.\n",
    "``` json\n",
    "[\n",
    "  {\n",
    "    \"model\": \"AudioSet\",\n",
    "    \"model_index\": [\n",
    "      {\n",
    "        \"model_label_str\": \"gunshot\",\n",
    "        \"model_label_vals\": [\"427\", \"428\", \"429\", \"430\"]\n",
    "      },\n",
    "      {\n",
    "        \"model_label_str\": \"explosion\",\n",
    "        \"model_label_vals\": [\"426\"]\n",
    "      }\n",
    "    ]\n",
    "  },\n",
    "  {\n",
    "    \"model\": \"KerasGunshot_CustomModel1\",\n",
    "    \"model_index\": [\n",
    "      {\n",
    "        \"model_label_str\": \"gunshot\",\n",
    "        \"model_label_vals\": [\"gunshot\"]\n",
    "      },\n",
    "      {\n",
    "        \"model_label_str\": \"other\",\n",
    "        \"model_label_vals\": [\"other\"]\n",
    "      },\n",
    "      {\n",
    "        \"model_label_str\": \"pred_label\",\n",
    "        \"model_label_vals\": [\"pred_label\"]\n",
    "      }\n",
    "    ]\n",
    "  }\n",
    "]\n",
    "\n",
    "```"
   ]
  },
  {
   "cell_type": "code",
   "execution_count": null,
   "metadata": {},
   "outputs": [],
   "source": [
    "modelIndexDf = pd.read_json(\"model_index.json\")\n",
    "modelIndexDf"
   ]
  },
  {
   "cell_type": "code",
   "execution_count": null,
   "metadata": {},
   "outputs": [],
   "source": [
    "for index, row in modelIndexDf.iterrows():\n",
    "    #normalizeDF = jsonDf['data'][index]\n",
    "    normalizeDF2 = modelIndexDf['model_index'][index]"
   ]
  },
  {
   "cell_type": "code",
   "execution_count": null,
   "metadata": {},
   "outputs": [],
   "source": [
    "modelMapDf = (pd.concat({i: json_normalize(normalizeDF2) for i, normalizeDF2 in modelIndexDf.pop('model_index').items()})\n",
    "         .reset_index(level=1, drop=True)\n",
    "         .join(modelIndexDf)\n",
    "         .reset_index(drop=True))\n",
    "modelMapDf"
   ]
  },
  {
   "cell_type": "markdown",
   "metadata": {},
   "source": [
    "## Future features:\n",
    "\n",
    "- Move model index to directory base\n",
    "- Persisted Dataframes\n",
    "- Validation Cells for Gunshot (Inputs for Validation)\n",
    "- Migrate to a script"
   ]
  }
 ],
 "metadata": {
  "language_info": {
   "name": "python",
   "pygments_lexer": "ipython3"
  }
 },
 "nbformat": 4,
 "nbformat_minor": 2
}
